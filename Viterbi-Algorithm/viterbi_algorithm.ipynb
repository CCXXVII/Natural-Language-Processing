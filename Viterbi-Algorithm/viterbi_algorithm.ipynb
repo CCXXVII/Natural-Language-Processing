{
 "cells": [
  {
   "cell_type": "code",
   "execution_count": 1,
   "metadata": {},
   "outputs": [],
   "source": [
    "import numpy as np"
   ]
  },
  {
   "cell_type": "code",
   "execution_count": 2,
   "metadata": {},
   "outputs": [],
   "source": [
    "#Viterbi algorithm for finding the most likely sequence of hidden states -\n",
    "\n",
    "def viterbi(O, S, initial_p, A, B):\n",
    "    most_likely_sequence = []\n",
    "    T = len(O)\n",
    "    N = len(S)\n",
    "    V = np.zeros((N, T))\n",
    "    B = np.array(B)\n",
    "    A = np.array(A)\n",
    "    for i in range(N):\n",
    "        V[i, 0] = initial_p[i] * B[i, O[0]]\n",
    "    for t in range(1, T):\n",
    "        for i in range(N):\n",
    "            V[i, t] = np.max(V[:, t-1] * A[:, i]) * B[i, O[t]]\n",
    "    most_likely_sequence.append(np.argmax(V[:, T-1]))\n",
    "    for t in range(T-1, 0, -1):\n",
    "        most_likely_sequence.append(np.argmax(V[:, t-1] * A[:, most_likely_sequence[-1]]))\n",
    "    most_likely_sequence.reverse()\n",
    "    return most_likely_sequence"
   ]
  },
  {
   "cell_type": "code",
   "execution_count": 3,
   "metadata": {},
   "outputs": [
    {
     "name": "stdout",
     "output_type": "stream",
     "text": [
      "First example\n"
     ]
    },
    {
     "data": {
      "text/plain": [
       "[0, 0, 0]"
      ]
     },
     "execution_count": 3,
     "metadata": {},
     "output_type": "execute_result"
    }
   ],
   "source": [
    "#First example\n",
    "print(\"First example\")\n",
    "viterbi([0, 1, 0], ['Healthy', 'Fever'], [0.6, 0.4], [[0.7, 0.3], [0.4, 0.6]], [[0.5, 0.4, 0.1], [0.1, 0.3, 0.6]])"
   ]
  },
  {
   "cell_type": "code",
   "execution_count": 4,
   "metadata": {},
   "outputs": [
    {
     "name": "stdout",
     "output_type": "stream",
     "text": [
      "Second example\n"
     ]
    },
    {
     "data": {
      "text/plain": [
       "[1, 0, 0, 0, 0, 0, 0, 0, 0, 0]"
      ]
     },
     "execution_count": 4,
     "metadata": {},
     "output_type": "execute_result"
    }
   ],
   "source": [
    "#Second example\n",
    "print(\"Second example\")\n",
    "viterbi([1, 0, 1, 0, 1, 0, 1, 0, 1, 0], ['Sunny', 'Rainy'], [0.3, 0.7], [[0.8, 0.2], [0.5, 0.5]], [[0.5, 0.4, 0.1], [0.2, 0.3, 0.5]])"
   ]
  }
 ],
 "metadata": {
  "kernelspec": {
   "display_name": "Python 3.10.4 64-bit",
   "language": "python",
   "name": "python3"
  },
  "language_info": {
   "codemirror_mode": {
    "name": "ipython",
    "version": 3
   },
   "file_extension": ".py",
   "mimetype": "text/x-python",
   "name": "python",
   "nbconvert_exporter": "python",
   "pygments_lexer": "ipython3",
   "version": "3.10.4"
  },
  "orig_nbformat": 4,
  "vscode": {
   "interpreter": {
    "hash": "4e0347718afc69be7b1c23768afdbedb062dd9a48333758dd9b559c5248491fc"
   }
  }
 },
 "nbformat": 4,
 "nbformat_minor": 2
}
